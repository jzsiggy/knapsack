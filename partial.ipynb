{
 "cells": [
  {
   "attachments": {},
   "cell_type": "markdown",
   "metadata": {},
   "source": [
    "# Relatório Parcial\n",
    "## Otimização de agendamento de filmes\n",
    "\n",
    "Por João Zsigmond"
   ]
  },
  {
   "attachments": {},
   "cell_type": "markdown",
   "metadata": {},
   "source": [
    "# Definição do Problema\n",
    "\n",
    "A partir de uma lista de filmes categorizados, como podemos maximizar o número de filmes assistidos e o tempo assistindo filmes, respeitando os limites de cada categoria.\n",
    "\n",
    "- Apenas um filme pode ser assistido por vez.\n",
    "- O limite de número máximo de filmes assistido por categoria tem que ser respeitado.\n",
    "\n",
    "## Input\n",
    "\n",
    "Recebemos como entrada uma lista de filmes definidos por:\n",
    "1. horário de início\n",
    "2. horário de término\n",
    "3. categoria\n",
    "\n",
    "E também recebemos o limite de filmes que podem ser assistidos por categoria."
   ]
  },
  {
   "attachments": {},
   "cell_type": "markdown",
   "metadata": {},
   "source": [
    "# A Heurística Gulosa\n",
    "\n",
    "A heurística gulosa, em termos gerais, ordena os filmes por ordem crescente com relação ao horário de término e seleciona sempre o próximo filme na lista. Se o próximo filme na lista não pode ser assistido pois não se enquadra nas regras, ele é pulado. Um filme não se encaixa nas regras quando 1. já alcancamos o limite de filmes que podem ser assistidos em sua categoria ou 2. o filme tem início antes que o último filme chegou ao fim, dessa forma, se o assistirmos estaríamos assistindo dois filmes simultanteamente."
   ]
  },
  {
   "attachments": {},
   "cell_type": "markdown",
   "metadata": {},
   "source": [
    "# Código fonte da heurística gulosa\n",
    "\n",
    "```cpp\n",
    "#include <iostream>\n",
    "#include <vector>\n",
    "#include <bitset>\n",
    "#include <algorithm>\n",
    "\n",
    "using namespace std;\n",
    "\n",
    "// Define a struct to represent a movie\n",
    "struct Movie {\n",
    "    int start_time;\n",
    "    int end_time;\n",
    "    int category;\n",
    "};\n",
    "\n",
    "int main() {\n",
    "    // Start the timer\n",
    "    auto startTime = chrono::steady_clock::now();\n",
    "\n",
    "    int num_movies, num_categories;\n",
    "    cin >> num_movies >> num_categories;\n",
    "\n",
    "    // Read the category limits into a vector\n",
    "    vector<int> category_limit(num_categories + 1);\n",
    "    for (int i = 1; i <= num_categories; i++) {\n",
    "        cin >> category_limit[i];\n",
    "    }\n",
    "\n",
    "    // Read the movie information into a vector\n",
    "    vector<Movie> movies(num_movies);\n",
    "    for (int i = 0; i < num_movies; i++) {\n",
    "        cin >> movies[i].start_time >> movies[i].end_time >> movies[i].category;\n",
    "        if (movies[i].end_time < movies[i].start_time) {\n",
    "            movies[i].end_time = 24;\n",
    "        }\n",
    "        \n",
    "        if (movies[i].end_time == movies[i].start_time) {\n",
    "            movies[i].end_time += 1;\n",
    "        }\n",
    "    }\n",
    "\n",
    "    // Sort the movies by end time\n",
    "    sort(movies.begin(), movies.end(), [](const Movie& a, const Movie& b) {\n",
    "        if (a.end_time == b.end_time) { return a.start_time < b.start_time; }\n",
    "        return a.end_time < b.end_time;\n",
    "    });\n",
    "\n",
    "    // // Sort the movies by start time\n",
    "    // sort(movies.begin(), movies.end(), [](const Movie& a, const Movie& b) {\n",
    "    //     return a.start_time < b.start_time;\n",
    "    // });\n",
    "\n",
    "    // Define a bitset to represent the availability of each hour of the day\n",
    "    bitset<24> hours;\n",
    "\n",
    "    // Keep track of how many movies of each category have been watched\n",
    "    vector<int> num_watched(num_categories + 1, 0);\n",
    "\n",
    "    // Keep track of the indices of the watched movies\n",
    "    vector<int> watched;\n",
    "\n",
    "    int time_watched = 0;\n",
    "\n",
    "    // Iterate over the movies and check if each movie can be watched\n",
    "    for (int i = 0; i < num_movies; i++) {\n",
    "        const Movie& movie = movies[i];\n",
    "\n",
    "        // Check if any hour of the movie overlaps with an already watched movie\n",
    "        bool can_watch = true;\n",
    "        for (int hour = movie.start_time; hour < movie.end_time; hour++) {\n",
    "            if (hours[hour]) {\n",
    "                can_watch = false;\n",
    "                break;\n",
    "            }\n",
    "        }\n",
    "        if (hours[movie.start_time]) { can_watch = false; }\n",
    "\n",
    "        // If the movie can be watched and its category limit has not been reached,\n",
    "        // mark the hours as watched, add the movie to the list of watched movies,\n",
    "        // and print the start time, end time, and category of the movie\n",
    "        if (can_watch && num_watched[movie.category] < category_limit[movie.category]) {\n",
    "            num_watched[movie.category]++;\n",
    "            time_watched += movie.end_time - movie.start_time;\n",
    "            watched.push_back(i);\n",
    "            hours[movie.start_time] = true;\n",
    "            for (int hour = movie.start_time; hour < movie.end_time; hour++) {\n",
    "                hours[hour] = true;\n",
    "            }\n",
    "            cout << movie.start_time << \" \" << movie.end_time << \" \" << movie.category << endl;\n",
    "        }\n",
    "    }\n",
    "\n",
    "    // Output the number of watched movies\n",
    "    cout << \"\\nNúmero de filmes: \" << watched.size() << endl;\n",
    "    cout << \"Tempo de tela (em horas): \" << time_watched << endl;\n",
    "\n",
    "    // Calculate the time elapsed during algorithm execution\n",
    "    auto endTime = chrono::steady_clock::now();\n",
    "    double duration = chrono::duration_cast<chrono::microseconds>(endTime - startTime).count();\n",
    "\n",
    "    cout << fixed;\n",
    "    cout << \"Time elapsed during the greedy algorithm (in microseconds): \" << duration << endl;\n",
    "    cout << scientific;\n",
    "\n",
    "    return 0;\n",
    "}\n",
    "```"
   ]
  },
  {
   "attachments": {},
   "cell_type": "markdown",
   "metadata": {},
   "source": [
    "## Explicação do código fonte da heurística gulosa\n",
    "\n",
    "1. Tratamento do input\n",
    "\n",
    "Sempre começamos tratando os dados do input. Recebemos como entrada do nosso programa um arquivo na seguinte estrutura: primeira linha contem dois números, o número total de filmes e o número total de categorias. A segunda linha possui os limites de cada categoria. As linhas seguintes definem os filmes. Cada uma delas possuem 3 números, horário de início, horário de término e categoria.\n",
    "Começamos montando uma estrutura de dados para representar cada filme.\n",
    "Depois, transformamos os limites de cada categoria em um vetor e os filmes em um vetor de filmes.\n",
    "\n",
    "2. Ordenação\n",
    "\n",
    "O segundo passo é ordenar o vetor de filmes por horário de término.\n",
    "\n",
    "3. Uso do bitset\n",
    "\n",
    "Usamos um bitset para organizar quais horas do dia estão livres para assisitirmos um filme. Sempre que um novo filme é assistido, preenchemos o bitset nos horários que o filme nos ocupou.\n",
    "\n",
    "4. Validação do filme seguinte\n",
    "\n",
    "Fazemos um loop no vetor de filmes e vamos assistindo um em seguida do outro. Sempre, antes de assistir um filme temos que verificar se podemos o assistir de acordo com as regras impostas pelo desafio. \n",
    "Pra isso, quando nos deparamos com um novo filme, primeiro checamos se os horários que ele ocupa não está sendo ocupado por nenhum outro filme que ja assistimos. Depois checamos se ja alcancamos o limite de sua categoria. Se essas duas regras não forem quebradas, assistimos o filme e atualizamos o vetor de filmes assistidos, os horários ocupados por esse filme e adicionamos 1 no vetor que toma conta dos limites de categoria."
   ]
  },
  {
   "attachments": {},
   "cell_type": "markdown",
   "metadata": {},
   "source": [
    "# A Heurística Aleatória\n",
    "\n",
    "Diferente do que o nome sugere, a nossa heurística aleatória na verdade é apenas um pouco aleatória. \n",
    "\n",
    "A heurística aleatória segue as mesmas regras da heurística gulosa, porém com uma diferenciação. 25% das vezes, ao invés de seguir a lista ordenada de filmes, o algoritimo que segue a heurística aleatória irá selecionar um filme qualquer que ainda não tenha sido assistido e que não quebre nenhuma das regras do desafio.\n",
    "\n",
    "A aleatoriedade é interessante pois a heurística puramente gulosa pode se prender em um ótimo local. Se de vez em quando o algorítimo é induzido a selecionar um filme aleatório, ele pode sair do ótimo local. "
   ]
  },
  {
   "attachments": {},
   "cell_type": "markdown",
   "metadata": {},
   "source": [
    "# Código fonte da heurística aleatória\n",
    "\n",
    "```cpp\n",
    "#include <iostream>\n",
    "#include <vector>\n",
    "#include <bitset>\n",
    "#include <algorithm>\n",
    "\n",
    "using namespace std;\n",
    "\n",
    "// Define a struct to represent a movie\n",
    "struct Movie {\n",
    "    int start_time;\n",
    "    int end_time;\n",
    "    int category;\n",
    "};\n",
    "\n",
    "bool check_can_watch(const Movie& movie, const bitset<24>& hours, const vector<int>& num_watched, const vector<int>& category_limit) {\n",
    "    if (num_watched[movie.category] >= category_limit[movie.category]) { return false; }\n",
    "    for (int hour = movie.start_time; hour < movie.end_time; hour++) {\n",
    "        if (hours[hour]) {\n",
    "            return false;\n",
    "        }\n",
    "    }\n",
    "    if (hours[movie.start_time]) { return false; }\n",
    "    return true;\n",
    "}\n",
    "\n",
    "int main() {\n",
    "    // Start the timer\n",
    "    auto startTime = chrono::steady_clock::now();\n",
    "    \n",
    "    srand((unsigned) time(NULL));\n",
    "    int num_movies, num_categories;\n",
    "    cin >> num_movies >> num_categories;\n",
    "\n",
    "    // Read the category limits into a vector\n",
    "    vector<int> category_limit(num_categories + 1);\n",
    "    for (int i = 1; i <= num_categories; i++) {\n",
    "        cin >> category_limit[i];\n",
    "    }\n",
    "\n",
    "    // Read the movie information into a vector\n",
    "    vector<Movie> unwatched_movies(num_movies);\n",
    "    for (int i = 0; i < num_movies; i++) {\n",
    "        cin >> unwatched_movies[i].start_time >> unwatched_movies[i].end_time >> unwatched_movies[i].category;\n",
    "        if (unwatched_movies[i].end_time < unwatched_movies[i].start_time) {\n",
    "            unwatched_movies[i].end_time = 24;\n",
    "        }\n",
    "\n",
    "        if (unwatched_movies[i].end_time == unwatched_movies[i].start_time) {\n",
    "            unwatched_movies[i].end_time += 1;\n",
    "        }\n",
    "    }\n",
    "\n",
    "    vector<Movie> watched_movies;\n",
    "    vector<Movie> lost_movies;\n",
    "\n",
    "    // Sort the movies by end time\n",
    "    sort(unwatched_movies.begin(), unwatched_movies.end(), [](const Movie& a, const Movie& b) {\n",
    "        if (a.end_time == b.end_time) { return a.start_time < b.start_time; }\n",
    "        return a.end_time < b.end_time;\n",
    "    });\n",
    "\n",
    "    // Define a bitset to represent the availability of each hour of the day\n",
    "    bitset<24> hours;\n",
    "\n",
    "    // Keep track of how many movies of each category have been watched\n",
    "    vector<int> num_watched(num_categories + 1, 0);\n",
    "\n",
    "    int time_watched = 0;\n",
    "\n",
    "    // Iterate over the movies and check if each movie can be watched\n",
    "    while (!unwatched_movies.empty()) {\n",
    "        bool end = false;\n",
    "        Movie movie;\n",
    "        int index;\n",
    "        int random_num = rand() % 4;\n",
    "        if (random_num != 0) {\n",
    "            index = 0;\n",
    "            movie = unwatched_movies.front();\n",
    "        } else {\n",
    "            index = rand() % unwatched_movies.size();\n",
    "            movie = unwatched_movies[index];\n",
    "\n",
    "            while(!check_can_watch(movie, hours, num_watched, category_limit)) {\n",
    "                lost_movies.push_back(movie);\n",
    "                unwatched_movies.erase(unwatched_movies.begin() + index);\n",
    "\n",
    "                if (unwatched_movies.empty()) { end = true; break; }\n",
    "\n",
    "                index = rand() % unwatched_movies.size();\n",
    "                movie = unwatched_movies[index];\n",
    "            }\n",
    "        }\n",
    "\n",
    "        if (end) { break; }\n",
    "        \n",
    "        if (check_can_watch(movie, hours, num_watched, category_limit)) {\n",
    "            hours[movie.start_time] = true;\n",
    "            for (int hour = movie.start_time; hour < movie.end_time; hour++) {\n",
    "                hours[hour] = true;\n",
    "            }\n",
    "            num_watched[movie.category]++;\n",
    "            time_watched += movie.end_time - movie.start_time;\n",
    "            watched_movies.push_back(movie);\n",
    "            unwatched_movies.erase(unwatched_movies.begin()+index);\n",
    "            cout << movie.start_time << \" \" << movie.end_time << \" \" << movie.category << endl;\n",
    "        } else {\n",
    "            lost_movies.push_back(movie);\n",
    "            unwatched_movies.erase(unwatched_movies.begin() + index);\n",
    "        }\n",
    "    }\n",
    "\n",
    "    // Output the number of watched movies\n",
    "    cout << \"\\nNúmero de filmes: \" << watched_movies.size() << endl;\n",
    "    cout << \"Tempo de tela (em horas): \" << time_watched << endl;\n",
    "\n",
    "    // Calculate the time elapsed during algorithm execution\n",
    "    auto endTime = chrono::steady_clock::now();\n",
    "    double duration = chrono::duration_cast<chrono::microseconds>(endTime - startTime).count();\n",
    "\n",
    "    cout << fixed;\n",
    "    cout << \"Time elapsed during the stochastic greedy algorithm (in microseconds): \" << duration << endl;\n",
    "    cout << scientific;\n",
    "\n",
    "    return 0;\n",
    "}\n",
    "```"
   ]
  },
  {
   "attachments": {},
   "cell_type": "markdown",
   "metadata": {},
   "source": [
    "# Explicação da heurística \n",
    "\n",
    "1. Tratamento do input\n",
    "\n",
    "Sempre começamos tratando os dados do input. Recebemos como entrada do nosso programa um arquivo na seguinte estrutura: primeira linha contem dois números, o número total de filmes e o número total de categorias. A segunda linha possui os limites de cada categoria. As linhas seguintes definem os filmes. Cada uma delas possuem 3 números, horário de início, horário de término e categoria.\n",
    "Começamos montando uma estrutura de dados para representar cada filme.\n",
    "Depois, transformamos os limites de cada categoria em um vetor e os filmes em um vetor de filmes.\n",
    "\n",
    "2. Ordenação\n",
    "\n",
    "O segundo passo é ordenar o vetor de filmes por horário de término.\n",
    "\n",
    "3. Uso do bitset\n",
    "\n",
    "Usamos um bitset para organizar quais horas do dia estão livres para assisitirmos um filme. Sempre que um novo filme é assistido, preenchemos o bitset nos horários que o filme nos ocupou.\n",
    "\n",
    "4. Validação do filme seguinte\n",
    "\n",
    "Essa etapa, na heurística aleatória, é diferente da heurística gulosa. Em 75% das vezes vamos seguir o mesmo procedimento da heurística gulosa, porém em 25% das vezes, iremos assistir um filme aleatório da lista que ainda não foi assistido e se encaixa nas regras do desafio."
   ]
  },
  {
   "attachments": {},
   "cell_type": "markdown",
   "metadata": {},
   "source": [
    "# Profiling com Valgrind"
   ]
  },
  {
   "attachments": {},
   "cell_type": "markdown",
   "metadata": {},
   "source": [
    "## Profiling da heurística gulosa\n",
    "```valgrind\n",
    "-- line 7 ----------------------------------------\n",
    "     .\n",
    "     .           // Define a struct to represent a movie\n",
    "     .           struct Movie {\n",
    "     .               int start_time;\n",
    "     .               int end_time;\n",
    "     .               int category;\n",
    "     .           };\n",
    "     .\n",
    "    11 ( 0.00%)  int main() {\n",
    "     .               int num_movies, num_categories;\n",
    "     6 ( 0.00%)      cin >> num_movies >> num_categories;\n",
    " 8,589 ( 0.14%)  => ???:0x0000000000109150 (2x)\n",
    "     .\n",
    "     .               // Read the category limits into a vector\n",
    "     3 ( 0.00%)      vector<int> category_limit(num_categories + 1);\n",
    "    45 ( 0.00%)      for (int i = 1; i <= num_categories; i++) {\n",
    "    32 ( 0.00%)          cin >> category_limit[i];\n",
    "10,442 ( 0.18%)  => ???:0x0000000000109150 (10x)\n",
    "     .               }\n",
    "     .\n",
    "     .               // Read the movie information into a vector\n",
    "     1 ( 0.00%)      vector<Movie> movies(num_movies);\n",
    " 4,006 ( 0.07%)      for (int i = 0; i < num_movies; i++) {\n",
    " 9,002 ( 0.15%)          cin >> movies[i].start_time >> movies[i].end_time >> movies[i].category;\n",
    "3,292,381 (55.46%)  => ???:0x0000000000109150 (3,000x)\n",
    " 3,000 ( 0.05%)          if (movies[i].end_time < movies[i].start_time) {\n",
    "   135 ( 0.00%)              movies[i].end_time = 24;\n",
    "     .                   }\n",
    "     .               }\n",
    "     .\n",
    "     .               // Sort the movies by end time\n",
    "     .               sort(movies.begin(), movies.end(), [](const Movie& a, const Movie& b) {\n",
    "24,984 ( 0.42%)          if (a.end_time == b.end_time) { return a.start_time < b.start_time; }\n",
    "19,774 ( 0.33%)          return a.end_time < b.end_time;\n",
    "     .               });\n",
    "     .\n",
    "     .               // // Sort the movies by start time\n",
    "     .               // sort(movies.begin(), movies.end(), [](const Movie& a, const Movie& b) {\n",
    "     .               //     return a.start_time < b.start_time;\n",
    "     .               // });\n",
    "     .\n",
    "     .               // Define a bitset to represent the availability of each hour of the day\n",
    "     1 ( 0.00%)      bitset<24> hours;\n",
    "     .\n",
    "     .               // Keep track of how many movies of each category have been watched\n",
    "     3 ( 0.00%)      vector<int> num_watched(num_categories + 1, 0);\n",
    "     .\n",
    "     .               // Keep track of the indices of the watched movies\n",
    "     .               vector<int> watched;\n",
    "     .\n",
    "     .               // Iterate over the movies and check if each movie can be watched\n",
    " 4,007 ( 0.07%)      for (int i = 0; i < num_movies; i++) {\n",
    " 1,000 ( 0.02%)          const Movie& movie = movies[i];\n",
    "     .\n",
    "     .                   // Check if any hour of the movie overlaps with an already watched movie\n",
    "     .                   bool can_watch = true;\n",
    " 7,075 ( 0.12%)          for (int hour = movie.start_time; hour < movie.end_time; hour++) {\n",
    " 2,963 ( 0.05%)              if (hours[hour]) {\n",
    "     .                           can_watch = false;\n",
    "     .                           break;\n",
    "     .                       }\n",
    "     .                   }\n",
    "    25 ( 0.00%)          if (hours[movie.start_time]) { can_watch = false; }\n",
    "     .\n",
    "     .                   // If the movie can be watched and its category limit has not been reached,\n",
    "     .                   // mark the hours as watched, add the movie to the list of watched movies,\n",
    "     .                   // and print the start time, end time, and category of the movie\n",
    "   108 ( 0.00%)          if (can_watch && num_watched[movie.category] < category_limit[movie.category]) {\n",
    "    40 ( 0.00%)              num_watched[movie.category]++;\n",
    "     .                       watched.push_back(i);\n",
    "    20 ( 0.00%)              hours[movie.start_time] = true;\n",
    "   137 ( 0.00%)              for (int hour = movie.start_time; hour < movie.end_time; hour++) {\n",
    "     .                           hours[hour] = true;\n",
    "     .                       }\n",
    "   180 ( 0.00%)              cout << movie.start_time << \" \" << movie.end_time << \" \" << movie.category << endl;\n",
    "31,724 ( 0.53%)  => ???:0x00000000001091e0 (60x)\n",
    "     .                   }\n",
    "     .               }\n",
    "     .\n",
    "     .               // Output the number of watched movies\n",
    "     .               // cout << watched.size() << endl;\n",
    "     .\n",
    "     .               return 0;\n",
    "    15 ( 0.00%)  }\n",
    "    ```"
   ]
  },
  {
   "attachments": {},
   "cell_type": "markdown",
   "metadata": {},
   "source": [
    "## Profiling da heurística aleatória\n",
    "```\n",
    "-- line 8 ----------------------------------------\n",
    "     .           // Define a struct to represent a movie\n",
    "     .           struct Movie {\n",
    "     .               int start_time;\n",
    "     .               int end_time;\n",
    "     .               int category;\n",
    "     .           };\n",
    "     .\n",
    "     .           bool check_can_watch(const Movie& movie, const bitset<24>& hours, const vector<int>& num_watched, const vector<int>& category_limit) {\n",
    " 4,121 ( 0.05%)      if (num_watched[movie.category] >= category_limit[movie.category]) { return false; }\n",
    " 7,200 ( 0.09%)      for (int hour = movie.start_time; hour < movie.end_time; hour++) {\n",
    " 1,756 ( 0.02%)          if (hours[hour]) {\n",
    "     .                       return false;\n",
    "     .                   }\n",
    "     .               }\n",
    "    16 ( 0.00%)      if (hours[movie.start_time]) { return false; }\n",
    "     .               return true;\n",
    "     .           }\n",
    "     .\n",
    "    11 ( 0.00%)  int main() {\n",
    "     4 ( 0.00%)      srand((unsigned) time(NULL));\n",
    " 6,817 ( 0.08%)  => ???:0x0000000000109220 (1x)\n",
    "     8 ( 0.00%)  => ???:0x0000000000109200 (1x)\n",
    "     .               int num_movies, num_categories;\n",
    "     6 ( 0.00%)      cin >> num_movies >> num_categories;\n",
    " 8,589 ( 0.10%)  => ???:0x00000000001091c0 (2x)\n",
    "     .\n",
    "     .               // Read the category limits into a vector\n",
    "     3 ( 0.00%)      vector<int> category_limit(num_categories + 1);\n",
    "    45 ( 0.00%)      for (int i = 1; i <= num_categories; i++) {\n",
    "    32 ( 0.00%)          cin >> category_limit[i];\n",
    "10,442 ( 0.13%)  => ???:0x00000000001091c0 (10x)\n",
    "     .               }\n",
    "     .\n",
    "     .               // Read the movie information into a vector\n",
    "     6 ( 0.00%)      vector<Movie> unwatched_movies(num_movies);\n",
    " 1,750 ( 0.02%)  => /usr/include/c++/9/bits/stl_vector.h:std::vector<Movie, std::allocator<Movie> >::vector(unsigned long, std::allocator<Movie> const&) (1x)\n",
    " 4,006 ( 0.05%)      for (int i = 0; i < num_movies; i++) {\n",
    " 9,002 ( 0.11%)          cin >> unwatched_movies[i].start_time >> unwatched_movies[i].end_time >> unwatched_movies[i].category;\n",
    "3,292,381 (40.23%)  => ???:0x00000000001091c0 (3,000x)\n",
    " 4,000 ( 0.05%)          if (unwatched_movies[i].end_time < unwatched_movies[i].start_time) {\n",
    "   135 ( 0.00%)              unwatched_movies[i].end_time = 24;\n",
    "     .                   }\n",
    "     .               }\n",
    "     .\n",
    "     7 ( 0.00%)      vector<Movie> watched_movies(num_movies);\n",
    " 1,750 ( 0.02%)  => /usr/include/c++/9/bits/stl_vector.h:std::vector<Movie, std::allocator<Movie> >::vector(unsigned long, std::allocator<Movie> const&) (1x)\n",
    "     6 ( 0.00%)      vector<Movie> lost_movies(num_movies);\n",
    " 1,750 ( 0.02%)  => /usr/include/c++/9/bits/stl_vector.h:std::vector<Movie, std::allocator<Movie> >::vector(unsigned long, std::allocator<Movie> const&) (1x)\n",
    "     .\n",
    "     .               // Sort the movies by end time\n",
    "     .               sort(unwatched_movies.begin(), unwatched_movies.end(), [](const Movie& a, const Movie& b) {\n",
    "24,984 ( 0.31%)          if (a.end_time == b.end_time) { return a.start_time < b.start_time; }\n",
    "19,774 ( 0.24%)          return a.end_time < b.end_time;\n",
    "     .               });\n",
    "     .\n",
    "     .               // Define a bitset to represent the availability of each hour of the day\n",
    "     2 ( 0.00%)      bitset<24> hours;\n",
    "     .\n",
    "     .               // Keep track of how many movies of each category have been watched\n",
    "     3 ( 0.00%)      vector<int> num_watched(num_categories + 1, 0);\n",
    "     .\n",
    "     .               // Keep track of the indices of the watched movies\n",
    "     .               vector<int> watched;\n",
    "     .\n",
    "     .               // Iterate over the movies and check if each movie can be watched\n",
    "    79 ( 0.00%)      while (!unwatched_movies.empty()) {\n",
    "     .                   bool end = false;\n",
    "     .                   Movie movie;\n",
    "     .                   int index;\n",
    "    39 ( 0.00%)          int random_num = rand() % 4;\n",
    " 2,406 ( 0.03%)  => ???:0x0000000000109190 (39x)\n",
    "    78 ( 0.00%)          if (random_num != 0) {\n",
    "    26 ( 0.00%)              index = 0;\n",
    "   130 ( 0.00%)              movie = unwatched_movies.front();\n",
    "     .                   } else {\n",
    "    91 ( 0.00%)              index = rand() % unwatched_movies.size();\n",
    "   806 ( 0.01%)  => ???:0x0000000000109190 (13x)\n",
    "   104 ( 0.00%)              movie = unwatched_movies[index];\n",
    "     .\n",
    "   961 ( 0.01%)              while(!check_can_watch(movie, hours, num_watched, category_limit)) {\n",
    "     .                           lost_movies.push_back(movie);\n",
    "     .                           unwatched_movies.erase(unwatched_movies.begin() + index);\n",
    "     .\n",
    " 1,925 ( 0.02%)                  if (unwatched_movies.empty()) { end = true; break; }\n",
    "     .\n",
    " 5,766 ( 0.07%)                  index = rand() % unwatched_movies.size();\n",
    "59,466 ( 0.73%)  => ???:0x0000000000109190 (961x)\n",
    " 6,727 ( 0.08%)                  movie = unwatched_movies[index];\n",
    "     .                       }\n",
    "     .                   }\n",
    "     .\n",
    "     .                   if (end) { break; }\n",
    "     .\n",
    "     .                   if (check_can_watch(movie, hours, num_watched, category_limit)) {\n",
    "     .                       hours[movie.start_time] = true;\n",
    "    92 ( 0.00%)              for (int hour = movie.start_time; hour < movie.end_time; hour++) {\n",
    "     .                           hours[hour] = true;\n",
    "     .                       }\n",
    "    28 ( 0.00%)              num_watched[movie.category]++;\n",
    "     .                       watched_movies.push_back(movie);\n",
    "     .                       unwatched_movies.erase(unwatched_movies.begin()+index);\n",
    "   168 ( 0.00%)              cout << movie.start_time << \" \" << movie.end_time << \" \" << movie.category << endl;\n",
    "24,477 ( 0.30%)  => ???:0x00000000001092a0 (42x)\n",
    "     .                   } else {\n",
    "     .                       lost_movies.push_back(movie);\n",
    "     .                       unwatched_movies.erase(unwatched_movies.begin() + index);\n",
    "     .                   }\n",
    "     .               }\n",
    "     .\n",
    "     .               // Output the number of watched movies\n",
    "     .               // cout << watched.size() << endl;\n",
    "     .\n",
    "     .               return 0;\n",
    "    15 ( 0.00%)  }\n",
    "```"
   ]
  },
  {
   "attachments": {},
   "cell_type": "markdown",
   "metadata": {},
   "source": [
    "## Conclusões sobre o profiling\n",
    "\n",
    "Podemos notar que as instruções de ler dados de um arquivo e de escrever dados para o stdout são as instruções que mais consomem. Além disso, as instruções que involvem calculode variáveis com aleatoriedade também impactam muito."
   ]
  },
  {
   "attachments": {},
   "cell_type": "markdown",
   "metadata": {},
   "source": [
    "# Comparação de Resultados\n",
    "\n",
    "## Visualização comparativa entre a performance da heurística gulosa e aleatória\n",
    "\n",
    "Para criar essas visualizações foram levadas em consideração as seguintes variáveis:\n",
    "- Número de filmes assistidos\n",
    "- Tempo assistindo filmes\n",
    "- Tempo de execução do algoritimo"
   ]
  },
  {
   "cell_type": "code",
   "execution_count": 23,
   "metadata": {},
   "outputs": [],
   "source": [
    "from os import listdir\n",
    "from os.path import isfile, join\n",
    "\n",
    "import pandas as pd\n",
    "import plotly.graph_objects as go\n",
    "\n",
    "files = [f for f in listdir(\"./outputs/greedy\") if isfile(join(\"./outputs/greedy\", f))]\n",
    "\n",
    "num_movies = {}\n",
    "screen_time = {}\n",
    "execution_duration = {}\n",
    "\n",
    "for file_name in files:\n",
    "    num_movies[file_name] = {}\n",
    "    screen_time[file_name] = {}\n",
    "    execution_duration[file_name] = {}\n",
    "    with open('./outputs/greedy/{}'.format(file_name), 'r') as f:\n",
    "        lines = f.readlines()\n",
    "        num_movies[file_name]['greedy'] = int(float(lines[-3].split()[-1]))\n",
    "        screen_time[file_name]['greedy'] = int(float(lines[-2].split()[-1]))\n",
    "        execution_duration[file_name]['greedy'] = int(float(lines[-1].split()[-1]))\n",
    "        \n",
    "        \n",
    "\n",
    "    with open('./outputs/random/{}'.format(file_name), 'r') as f:\n",
    "        lines = f.readlines()\n",
    "        num_movies[file_name]['random'] = int(float(lines[-3].split()[-1]))\n",
    "        screen_time[file_name]['random'] = int(float(lines[-2].split()[-1]))\n",
    "        execution_duration[file_name]['random'] = int(float(lines[-1].split()[-1]))\n",
    "\n",
    "num_movies_df = pd.DataFrame.from_dict(num_movies, 'index')\n",
    "screen_time_df = pd.DataFrame.from_dict(screen_time, 'index')\n",
    "execution_duration_df = pd.DataFrame.from_dict(execution_duration, 'index')"
   ]
  },
  {
   "cell_type": "code",
   "execution_count": 24,
   "metadata": {},
   "outputs": [
    {
     "data": {
      "application/vnd.plotly.v1+json": {
       "config": {
        "plotlyServerURL": "https://plot.ly"
       },
       "data": [
        {
         "marker": {
          "color": "indianred"
         },
         "name": "Greedy Algorithm",
         "type": "bar",
         "x": [
          "output_200000_50.txt",
          "output_70000_5.txt",
          "output_1000_70.txt",
          "output_70000_1.txt",
          "output_60000_6.txt",
          "output_55000_5.txt",
          "output_20000_50.txt",
          "output_10000_60.txt",
          "output_60000_5.txt",
          "output_1000_100.txt",
          "output_55000_2.txt",
          "output_10000_70.txt",
          "output_1000_10.txt",
          "output_10000_100.txt",
          "output_1000_20.txt",
          "output_10000_40.txt",
          "output_10000_50.txt",
          "output_100000_70.txt",
          "output_10_2.txt",
          "output_55000_50.txt",
          "output_50_3.txt",
          "output_100_10.txt",
          "output_100000_100.txt",
          "output_10000_25.txt",
          "output_70000_12.txt"
         ],
         "y": [
          24,
          12,
          22,
          1,
          12,
          16,
          24,
          24,
          17,
          21,
          4,
          24,
          20,
          24,
          23,
          24,
          24,
          24,
          4,
          24,
          4,
          10,
          24,
          24,
          24
         ]
        },
        {
         "marker": {
          "color": "lightsalmon"
         },
         "name": "Stochastic Algorithm",
         "type": "bar",
         "x": [
          "output_200000_50.txt",
          "output_70000_5.txt",
          "output_1000_70.txt",
          "output_70000_1.txt",
          "output_60000_6.txt",
          "output_55000_5.txt",
          "output_20000_50.txt",
          "output_10000_60.txt",
          "output_60000_5.txt",
          "output_1000_100.txt",
          "output_55000_2.txt",
          "output_10000_70.txt",
          "output_1000_10.txt",
          "output_10000_100.txt",
          "output_1000_20.txt",
          "output_10000_40.txt",
          "output_10000_50.txt",
          "output_100000_70.txt",
          "output_10_2.txt",
          "output_55000_50.txt",
          "output_50_3.txt",
          "output_100_10.txt",
          "output_100000_100.txt",
          "output_10000_25.txt",
          "output_70000_12.txt"
         ],
         "y": [
          9,
          12,
          14,
          1,
          11,
          11,
          14,
          14,
          12,
          12,
          4,
          13,
          12,
          12,
          11,
          13,
          15,
          15,
          4,
          14,
          4,
          10,
          10,
          10,
          14
         ]
        }
       ],
       "layout": {
        "barmode": "group",
        "template": {
         "data": {
          "bar": [
           {
            "error_x": {
             "color": "#2a3f5f"
            },
            "error_y": {
             "color": "#2a3f5f"
            },
            "marker": {
             "line": {
              "color": "#E5ECF6",
              "width": 0.5
             },
             "pattern": {
              "fillmode": "overlay",
              "size": 10,
              "solidity": 0.2
             }
            },
            "type": "bar"
           }
          ],
          "barpolar": [
           {
            "marker": {
             "line": {
              "color": "#E5ECF6",
              "width": 0.5
             },
             "pattern": {
              "fillmode": "overlay",
              "size": 10,
              "solidity": 0.2
             }
            },
            "type": "barpolar"
           }
          ],
          "carpet": [
           {
            "aaxis": {
             "endlinecolor": "#2a3f5f",
             "gridcolor": "white",
             "linecolor": "white",
             "minorgridcolor": "white",
             "startlinecolor": "#2a3f5f"
            },
            "baxis": {
             "endlinecolor": "#2a3f5f",
             "gridcolor": "white",
             "linecolor": "white",
             "minorgridcolor": "white",
             "startlinecolor": "#2a3f5f"
            },
            "type": "carpet"
           }
          ],
          "choropleth": [
           {
            "colorbar": {
             "outlinewidth": 0,
             "ticks": ""
            },
            "type": "choropleth"
           }
          ],
          "contour": [
           {
            "colorbar": {
             "outlinewidth": 0,
             "ticks": ""
            },
            "colorscale": [
             [
              0,
              "#0d0887"
             ],
             [
              0.1111111111111111,
              "#46039f"
             ],
             [
              0.2222222222222222,
              "#7201a8"
             ],
             [
              0.3333333333333333,
              "#9c179e"
             ],
             [
              0.4444444444444444,
              "#bd3786"
             ],
             [
              0.5555555555555556,
              "#d8576b"
             ],
             [
              0.6666666666666666,
              "#ed7953"
             ],
             [
              0.7777777777777778,
              "#fb9f3a"
             ],
             [
              0.8888888888888888,
              "#fdca26"
             ],
             [
              1,
              "#f0f921"
             ]
            ],
            "type": "contour"
           }
          ],
          "contourcarpet": [
           {
            "colorbar": {
             "outlinewidth": 0,
             "ticks": ""
            },
            "type": "contourcarpet"
           }
          ],
          "heatmap": [
           {
            "colorbar": {
             "outlinewidth": 0,
             "ticks": ""
            },
            "colorscale": [
             [
              0,
              "#0d0887"
             ],
             [
              0.1111111111111111,
              "#46039f"
             ],
             [
              0.2222222222222222,
              "#7201a8"
             ],
             [
              0.3333333333333333,
              "#9c179e"
             ],
             [
              0.4444444444444444,
              "#bd3786"
             ],
             [
              0.5555555555555556,
              "#d8576b"
             ],
             [
              0.6666666666666666,
              "#ed7953"
             ],
             [
              0.7777777777777778,
              "#fb9f3a"
             ],
             [
              0.8888888888888888,
              "#fdca26"
             ],
             [
              1,
              "#f0f921"
             ]
            ],
            "type": "heatmap"
           }
          ],
          "heatmapgl": [
           {
            "colorbar": {
             "outlinewidth": 0,
             "ticks": ""
            },
            "colorscale": [
             [
              0,
              "#0d0887"
             ],
             [
              0.1111111111111111,
              "#46039f"
             ],
             [
              0.2222222222222222,
              "#7201a8"
             ],
             [
              0.3333333333333333,
              "#9c179e"
             ],
             [
              0.4444444444444444,
              "#bd3786"
             ],
             [
              0.5555555555555556,
              "#d8576b"
             ],
             [
              0.6666666666666666,
              "#ed7953"
             ],
             [
              0.7777777777777778,
              "#fb9f3a"
             ],
             [
              0.8888888888888888,
              "#fdca26"
             ],
             [
              1,
              "#f0f921"
             ]
            ],
            "type": "heatmapgl"
           }
          ],
          "histogram": [
           {
            "marker": {
             "pattern": {
              "fillmode": "overlay",
              "size": 10,
              "solidity": 0.2
             }
            },
            "type": "histogram"
           }
          ],
          "histogram2d": [
           {
            "colorbar": {
             "outlinewidth": 0,
             "ticks": ""
            },
            "colorscale": [
             [
              0,
              "#0d0887"
             ],
             [
              0.1111111111111111,
              "#46039f"
             ],
             [
              0.2222222222222222,
              "#7201a8"
             ],
             [
              0.3333333333333333,
              "#9c179e"
             ],
             [
              0.4444444444444444,
              "#bd3786"
             ],
             [
              0.5555555555555556,
              "#d8576b"
             ],
             [
              0.6666666666666666,
              "#ed7953"
             ],
             [
              0.7777777777777778,
              "#fb9f3a"
             ],
             [
              0.8888888888888888,
              "#fdca26"
             ],
             [
              1,
              "#f0f921"
             ]
            ],
            "type": "histogram2d"
           }
          ],
          "histogram2dcontour": [
           {
            "colorbar": {
             "outlinewidth": 0,
             "ticks": ""
            },
            "colorscale": [
             [
              0,
              "#0d0887"
             ],
             [
              0.1111111111111111,
              "#46039f"
             ],
             [
              0.2222222222222222,
              "#7201a8"
             ],
             [
              0.3333333333333333,
              "#9c179e"
             ],
             [
              0.4444444444444444,
              "#bd3786"
             ],
             [
              0.5555555555555556,
              "#d8576b"
             ],
             [
              0.6666666666666666,
              "#ed7953"
             ],
             [
              0.7777777777777778,
              "#fb9f3a"
             ],
             [
              0.8888888888888888,
              "#fdca26"
             ],
             [
              1,
              "#f0f921"
             ]
            ],
            "type": "histogram2dcontour"
           }
          ],
          "mesh3d": [
           {
            "colorbar": {
             "outlinewidth": 0,
             "ticks": ""
            },
            "type": "mesh3d"
           }
          ],
          "parcoords": [
           {
            "line": {
             "colorbar": {
              "outlinewidth": 0,
              "ticks": ""
             }
            },
            "type": "parcoords"
           }
          ],
          "pie": [
           {
            "automargin": true,
            "type": "pie"
           }
          ],
          "scatter": [
           {
            "fillpattern": {
             "fillmode": "overlay",
             "size": 10,
             "solidity": 0.2
            },
            "type": "scatter"
           }
          ],
          "scatter3d": [
           {
            "line": {
             "colorbar": {
              "outlinewidth": 0,
              "ticks": ""
             }
            },
            "marker": {
             "colorbar": {
              "outlinewidth": 0,
              "ticks": ""
             }
            },
            "type": "scatter3d"
           }
          ],
          "scattercarpet": [
           {
            "marker": {
             "colorbar": {
              "outlinewidth": 0,
              "ticks": ""
             }
            },
            "type": "scattercarpet"
           }
          ],
          "scattergeo": [
           {
            "marker": {
             "colorbar": {
              "outlinewidth": 0,
              "ticks": ""
             }
            },
            "type": "scattergeo"
           }
          ],
          "scattergl": [
           {
            "marker": {
             "colorbar": {
              "outlinewidth": 0,
              "ticks": ""
             }
            },
            "type": "scattergl"
           }
          ],
          "scattermapbox": [
           {
            "marker": {
             "colorbar": {
              "outlinewidth": 0,
              "ticks": ""
             }
            },
            "type": "scattermapbox"
           }
          ],
          "scatterpolar": [
           {
            "marker": {
             "colorbar": {
              "outlinewidth": 0,
              "ticks": ""
             }
            },
            "type": "scatterpolar"
           }
          ],
          "scatterpolargl": [
           {
            "marker": {
             "colorbar": {
              "outlinewidth": 0,
              "ticks": ""
             }
            },
            "type": "scatterpolargl"
           }
          ],
          "scatterternary": [
           {
            "marker": {
             "colorbar": {
              "outlinewidth": 0,
              "ticks": ""
             }
            },
            "type": "scatterternary"
           }
          ],
          "surface": [
           {
            "colorbar": {
             "outlinewidth": 0,
             "ticks": ""
            },
            "colorscale": [
             [
              0,
              "#0d0887"
             ],
             [
              0.1111111111111111,
              "#46039f"
             ],
             [
              0.2222222222222222,
              "#7201a8"
             ],
             [
              0.3333333333333333,
              "#9c179e"
             ],
             [
              0.4444444444444444,
              "#bd3786"
             ],
             [
              0.5555555555555556,
              "#d8576b"
             ],
             [
              0.6666666666666666,
              "#ed7953"
             ],
             [
              0.7777777777777778,
              "#fb9f3a"
             ],
             [
              0.8888888888888888,
              "#fdca26"
             ],
             [
              1,
              "#f0f921"
             ]
            ],
            "type": "surface"
           }
          ],
          "table": [
           {
            "cells": {
             "fill": {
              "color": "#EBF0F8"
             },
             "line": {
              "color": "white"
             }
            },
            "header": {
             "fill": {
              "color": "#C8D4E3"
             },
             "line": {
              "color": "white"
             }
            },
            "type": "table"
           }
          ]
         },
         "layout": {
          "annotationdefaults": {
           "arrowcolor": "#2a3f5f",
           "arrowhead": 0,
           "arrowwidth": 1
          },
          "autotypenumbers": "strict",
          "coloraxis": {
           "colorbar": {
            "outlinewidth": 0,
            "ticks": ""
           }
          },
          "colorscale": {
           "diverging": [
            [
             0,
             "#8e0152"
            ],
            [
             0.1,
             "#c51b7d"
            ],
            [
             0.2,
             "#de77ae"
            ],
            [
             0.3,
             "#f1b6da"
            ],
            [
             0.4,
             "#fde0ef"
            ],
            [
             0.5,
             "#f7f7f7"
            ],
            [
             0.6,
             "#e6f5d0"
            ],
            [
             0.7,
             "#b8e186"
            ],
            [
             0.8,
             "#7fbc41"
            ],
            [
             0.9,
             "#4d9221"
            ],
            [
             1,
             "#276419"
            ]
           ],
           "sequential": [
            [
             0,
             "#0d0887"
            ],
            [
             0.1111111111111111,
             "#46039f"
            ],
            [
             0.2222222222222222,
             "#7201a8"
            ],
            [
             0.3333333333333333,
             "#9c179e"
            ],
            [
             0.4444444444444444,
             "#bd3786"
            ],
            [
             0.5555555555555556,
             "#d8576b"
            ],
            [
             0.6666666666666666,
             "#ed7953"
            ],
            [
             0.7777777777777778,
             "#fb9f3a"
            ],
            [
             0.8888888888888888,
             "#fdca26"
            ],
            [
             1,
             "#f0f921"
            ]
           ],
           "sequentialminus": [
            [
             0,
             "#0d0887"
            ],
            [
             0.1111111111111111,
             "#46039f"
            ],
            [
             0.2222222222222222,
             "#7201a8"
            ],
            [
             0.3333333333333333,
             "#9c179e"
            ],
            [
             0.4444444444444444,
             "#bd3786"
            ],
            [
             0.5555555555555556,
             "#d8576b"
            ],
            [
             0.6666666666666666,
             "#ed7953"
            ],
            [
             0.7777777777777778,
             "#fb9f3a"
            ],
            [
             0.8888888888888888,
             "#fdca26"
            ],
            [
             1,
             "#f0f921"
            ]
           ]
          },
          "colorway": [
           "#636efa",
           "#EF553B",
           "#00cc96",
           "#ab63fa",
           "#FFA15A",
           "#19d3f3",
           "#FF6692",
           "#B6E880",
           "#FF97FF",
           "#FECB52"
          ],
          "font": {
           "color": "#2a3f5f"
          },
          "geo": {
           "bgcolor": "white",
           "lakecolor": "white",
           "landcolor": "#E5ECF6",
           "showlakes": true,
           "showland": true,
           "subunitcolor": "white"
          },
          "hoverlabel": {
           "align": "left"
          },
          "hovermode": "closest",
          "mapbox": {
           "style": "light"
          },
          "paper_bgcolor": "white",
          "plot_bgcolor": "#E5ECF6",
          "polar": {
           "angularaxis": {
            "gridcolor": "white",
            "linecolor": "white",
            "ticks": ""
           },
           "bgcolor": "#E5ECF6",
           "radialaxis": {
            "gridcolor": "white",
            "linecolor": "white",
            "ticks": ""
           }
          },
          "scene": {
           "xaxis": {
            "backgroundcolor": "#E5ECF6",
            "gridcolor": "white",
            "gridwidth": 2,
            "linecolor": "white",
            "showbackground": true,
            "ticks": "",
            "zerolinecolor": "white"
           },
           "yaxis": {
            "backgroundcolor": "#E5ECF6",
            "gridcolor": "white",
            "gridwidth": 2,
            "linecolor": "white",
            "showbackground": true,
            "ticks": "",
            "zerolinecolor": "white"
           },
           "zaxis": {
            "backgroundcolor": "#E5ECF6",
            "gridcolor": "white",
            "gridwidth": 2,
            "linecolor": "white",
            "showbackground": true,
            "ticks": "",
            "zerolinecolor": "white"
           }
          },
          "shapedefaults": {
           "line": {
            "color": "#2a3f5f"
           }
          },
          "ternary": {
           "aaxis": {
            "gridcolor": "white",
            "linecolor": "white",
            "ticks": ""
           },
           "baxis": {
            "gridcolor": "white",
            "linecolor": "white",
            "ticks": ""
           },
           "bgcolor": "#E5ECF6",
           "caxis": {
            "gridcolor": "white",
            "linecolor": "white",
            "ticks": ""
           }
          },
          "title": {
           "x": 0.05
          },
          "xaxis": {
           "automargin": true,
           "gridcolor": "white",
           "linecolor": "white",
           "ticks": "",
           "title": {
            "standoff": 15
           },
           "zerolinecolor": "white",
           "zerolinewidth": 2
          },
          "yaxis": {
           "automargin": true,
           "gridcolor": "white",
           "linecolor": "white",
           "ticks": "",
           "title": {
            "standoff": 15
           },
           "zerolinecolor": "white",
           "zerolinewidth": 2
          }
         }
        },
        "title": {
         "text": "Number of Movies"
        },
        "xaxis": {
         "tickangle": -45
        }
       }
      }
     },
     "metadata": {},
     "output_type": "display_data"
    }
   ],
   "source": [
    "fig = go.Figure()\n",
    "fig.add_trace(go.Bar(\n",
    "    x=files,\n",
    "    y=num_movies_df['greedy'],\n",
    "    name='Greedy Algorithm',\n",
    "    marker_color='indianred'\n",
    "))\n",
    "fig.add_trace(go.Bar(\n",
    "    x=files,\n",
    "    y=num_movies_df['random'],\n",
    "    name='Stochastic Algorithm',\n",
    "    marker_color='lightsalmon'\n",
    "))\n",
    "\n",
    "fig.update_layout(barmode='group', xaxis_tickangle=-45, title=\"Number of Movies\")\n",
    "fig.show()"
   ]
  },
  {
   "cell_type": "code",
   "execution_count": 25,
   "metadata": {},
   "outputs": [
    {
     "data": {
      "application/vnd.plotly.v1+json": {
       "config": {
        "plotlyServerURL": "https://plot.ly"
       },
       "data": [
        {
         "marker": {
          "color": "indianred"
         },
         "name": "Greedy Algorithm",
         "type": "bar",
         "x": [
          "output_200000_50.txt",
          "output_70000_5.txt",
          "output_1000_70.txt",
          "output_70000_1.txt",
          "output_60000_6.txt",
          "output_55000_5.txt",
          "output_20000_50.txt",
          "output_10000_60.txt",
          "output_60000_5.txt",
          "output_1000_100.txt",
          "output_55000_2.txt",
          "output_10000_70.txt",
          "output_1000_10.txt",
          "output_10000_100.txt",
          "output_1000_20.txt",
          "output_10000_40.txt",
          "output_10000_50.txt",
          "output_100000_70.txt",
          "output_10_2.txt",
          "output_55000_50.txt",
          "output_50_3.txt",
          "output_100_10.txt",
          "output_100000_100.txt",
          "output_10000_25.txt",
          "output_70000_12.txt"
         ],
         "y": [
          24,
          12,
          24,
          1,
          12,
          16,
          24,
          24,
          17,
          24,
          4,
          24,
          24,
          24,
          24,
          24,
          24,
          24,
          13,
          24,
          11,
          24,
          24,
          24,
          24
         ]
        },
        {
         "marker": {
          "color": "lightsalmon"
         },
         "name": "Stochastic Algorithm",
         "type": "bar",
         "x": [
          "output_200000_50.txt",
          "output_70000_5.txt",
          "output_1000_70.txt",
          "output_70000_1.txt",
          "output_60000_6.txt",
          "output_55000_5.txt",
          "output_20000_50.txt",
          "output_10000_60.txt",
          "output_60000_5.txt",
          "output_1000_100.txt",
          "output_55000_2.txt",
          "output_10000_70.txt",
          "output_1000_10.txt",
          "output_10000_100.txt",
          "output_1000_20.txt",
          "output_10000_40.txt",
          "output_10000_50.txt",
          "output_100000_70.txt",
          "output_10_2.txt",
          "output_55000_50.txt",
          "output_50_3.txt",
          "output_100_10.txt",
          "output_100000_100.txt",
          "output_10000_25.txt",
          "output_70000_12.txt"
         ],
         "y": [
          24,
          24,
          24,
          2,
          24,
          24,
          24,
          24,
          24,
          24,
          7,
          24,
          24,
          24,
          24,
          24,
          24,
          24,
          12,
          24,
          10,
          17,
          24,
          24,
          24
         ]
        }
       ],
       "layout": {
        "barmode": "group",
        "template": {
         "data": {
          "bar": [
           {
            "error_x": {
             "color": "#2a3f5f"
            },
            "error_y": {
             "color": "#2a3f5f"
            },
            "marker": {
             "line": {
              "color": "#E5ECF6",
              "width": 0.5
             },
             "pattern": {
              "fillmode": "overlay",
              "size": 10,
              "solidity": 0.2
             }
            },
            "type": "bar"
           }
          ],
          "barpolar": [
           {
            "marker": {
             "line": {
              "color": "#E5ECF6",
              "width": 0.5
             },
             "pattern": {
              "fillmode": "overlay",
              "size": 10,
              "solidity": 0.2
             }
            },
            "type": "barpolar"
           }
          ],
          "carpet": [
           {
            "aaxis": {
             "endlinecolor": "#2a3f5f",
             "gridcolor": "white",
             "linecolor": "white",
             "minorgridcolor": "white",
             "startlinecolor": "#2a3f5f"
            },
            "baxis": {
             "endlinecolor": "#2a3f5f",
             "gridcolor": "white",
             "linecolor": "white",
             "minorgridcolor": "white",
             "startlinecolor": "#2a3f5f"
            },
            "type": "carpet"
           }
          ],
          "choropleth": [
           {
            "colorbar": {
             "outlinewidth": 0,
             "ticks": ""
            },
            "type": "choropleth"
           }
          ],
          "contour": [
           {
            "colorbar": {
             "outlinewidth": 0,
             "ticks": ""
            },
            "colorscale": [
             [
              0,
              "#0d0887"
             ],
             [
              0.1111111111111111,
              "#46039f"
             ],
             [
              0.2222222222222222,
              "#7201a8"
             ],
             [
              0.3333333333333333,
              "#9c179e"
             ],
             [
              0.4444444444444444,
              "#bd3786"
             ],
             [
              0.5555555555555556,
              "#d8576b"
             ],
             [
              0.6666666666666666,
              "#ed7953"
             ],
             [
              0.7777777777777778,
              "#fb9f3a"
             ],
             [
              0.8888888888888888,
              "#fdca26"
             ],
             [
              1,
              "#f0f921"
             ]
            ],
            "type": "contour"
           }
          ],
          "contourcarpet": [
           {
            "colorbar": {
             "outlinewidth": 0,
             "ticks": ""
            },
            "type": "contourcarpet"
           }
          ],
          "heatmap": [
           {
            "colorbar": {
             "outlinewidth": 0,
             "ticks": ""
            },
            "colorscale": [
             [
              0,
              "#0d0887"
             ],
             [
              0.1111111111111111,
              "#46039f"
             ],
             [
              0.2222222222222222,
              "#7201a8"
             ],
             [
              0.3333333333333333,
              "#9c179e"
             ],
             [
              0.4444444444444444,
              "#bd3786"
             ],
             [
              0.5555555555555556,
              "#d8576b"
             ],
             [
              0.6666666666666666,
              "#ed7953"
             ],
             [
              0.7777777777777778,
              "#fb9f3a"
             ],
             [
              0.8888888888888888,
              "#fdca26"
             ],
             [
              1,
              "#f0f921"
             ]
            ],
            "type": "heatmap"
           }
          ],
          "heatmapgl": [
           {
            "colorbar": {
             "outlinewidth": 0,
             "ticks": ""
            },
            "colorscale": [
             [
              0,
              "#0d0887"
             ],
             [
              0.1111111111111111,
              "#46039f"
             ],
             [
              0.2222222222222222,
              "#7201a8"
             ],
             [
              0.3333333333333333,
              "#9c179e"
             ],
             [
              0.4444444444444444,
              "#bd3786"
             ],
             [
              0.5555555555555556,
              "#d8576b"
             ],
             [
              0.6666666666666666,
              "#ed7953"
             ],
             [
              0.7777777777777778,
              "#fb9f3a"
             ],
             [
              0.8888888888888888,
              "#fdca26"
             ],
             [
              1,
              "#f0f921"
             ]
            ],
            "type": "heatmapgl"
           }
          ],
          "histogram": [
           {
            "marker": {
             "pattern": {
              "fillmode": "overlay",
              "size": 10,
              "solidity": 0.2
             }
            },
            "type": "histogram"
           }
          ],
          "histogram2d": [
           {
            "colorbar": {
             "outlinewidth": 0,
             "ticks": ""
            },
            "colorscale": [
             [
              0,
              "#0d0887"
             ],
             [
              0.1111111111111111,
              "#46039f"
             ],
             [
              0.2222222222222222,
              "#7201a8"
             ],
             [
              0.3333333333333333,
              "#9c179e"
             ],
             [
              0.4444444444444444,
              "#bd3786"
             ],
             [
              0.5555555555555556,
              "#d8576b"
             ],
             [
              0.6666666666666666,
              "#ed7953"
             ],
             [
              0.7777777777777778,
              "#fb9f3a"
             ],
             [
              0.8888888888888888,
              "#fdca26"
             ],
             [
              1,
              "#f0f921"
             ]
            ],
            "type": "histogram2d"
           }
          ],
          "histogram2dcontour": [
           {
            "colorbar": {
             "outlinewidth": 0,
             "ticks": ""
            },
            "colorscale": [
             [
              0,
              "#0d0887"
             ],
             [
              0.1111111111111111,
              "#46039f"
             ],
             [
              0.2222222222222222,
              "#7201a8"
             ],
             [
              0.3333333333333333,
              "#9c179e"
             ],
             [
              0.4444444444444444,
              "#bd3786"
             ],
             [
              0.5555555555555556,
              "#d8576b"
             ],
             [
              0.6666666666666666,
              "#ed7953"
             ],
             [
              0.7777777777777778,
              "#fb9f3a"
             ],
             [
              0.8888888888888888,
              "#fdca26"
             ],
             [
              1,
              "#f0f921"
             ]
            ],
            "type": "histogram2dcontour"
           }
          ],
          "mesh3d": [
           {
            "colorbar": {
             "outlinewidth": 0,
             "ticks": ""
            },
            "type": "mesh3d"
           }
          ],
          "parcoords": [
           {
            "line": {
             "colorbar": {
              "outlinewidth": 0,
              "ticks": ""
             }
            },
            "type": "parcoords"
           }
          ],
          "pie": [
           {
            "automargin": true,
            "type": "pie"
           }
          ],
          "scatter": [
           {
            "fillpattern": {
             "fillmode": "overlay",
             "size": 10,
             "solidity": 0.2
            },
            "type": "scatter"
           }
          ],
          "scatter3d": [
           {
            "line": {
             "colorbar": {
              "outlinewidth": 0,
              "ticks": ""
             }
            },
            "marker": {
             "colorbar": {
              "outlinewidth": 0,
              "ticks": ""
             }
            },
            "type": "scatter3d"
           }
          ],
          "scattercarpet": [
           {
            "marker": {
             "colorbar": {
              "outlinewidth": 0,
              "ticks": ""
             }
            },
            "type": "scattercarpet"
           }
          ],
          "scattergeo": [
           {
            "marker": {
             "colorbar": {
              "outlinewidth": 0,
              "ticks": ""
             }
            },
            "type": "scattergeo"
           }
          ],
          "scattergl": [
           {
            "marker": {
             "colorbar": {
              "outlinewidth": 0,
              "ticks": ""
             }
            },
            "type": "scattergl"
           }
          ],
          "scattermapbox": [
           {
            "marker": {
             "colorbar": {
              "outlinewidth": 0,
              "ticks": ""
             }
            },
            "type": "scattermapbox"
           }
          ],
          "scatterpolar": [
           {
            "marker": {
             "colorbar": {
              "outlinewidth": 0,
              "ticks": ""
             }
            },
            "type": "scatterpolar"
           }
          ],
          "scatterpolargl": [
           {
            "marker": {
             "colorbar": {
              "outlinewidth": 0,
              "ticks": ""
             }
            },
            "type": "scatterpolargl"
           }
          ],
          "scatterternary": [
           {
            "marker": {
             "colorbar": {
              "outlinewidth": 0,
              "ticks": ""
             }
            },
            "type": "scatterternary"
           }
          ],
          "surface": [
           {
            "colorbar": {
             "outlinewidth": 0,
             "ticks": ""
            },
            "colorscale": [
             [
              0,
              "#0d0887"
             ],
             [
              0.1111111111111111,
              "#46039f"
             ],
             [
              0.2222222222222222,
              "#7201a8"
             ],
             [
              0.3333333333333333,
              "#9c179e"
             ],
             [
              0.4444444444444444,
              "#bd3786"
             ],
             [
              0.5555555555555556,
              "#d8576b"
             ],
             [
              0.6666666666666666,
              "#ed7953"
             ],
             [
              0.7777777777777778,
              "#fb9f3a"
             ],
             [
              0.8888888888888888,
              "#fdca26"
             ],
             [
              1,
              "#f0f921"
             ]
            ],
            "type": "surface"
           }
          ],
          "table": [
           {
            "cells": {
             "fill": {
              "color": "#EBF0F8"
             },
             "line": {
              "color": "white"
             }
            },
            "header": {
             "fill": {
              "color": "#C8D4E3"
             },
             "line": {
              "color": "white"
             }
            },
            "type": "table"
           }
          ]
         },
         "layout": {
          "annotationdefaults": {
           "arrowcolor": "#2a3f5f",
           "arrowhead": 0,
           "arrowwidth": 1
          },
          "autotypenumbers": "strict",
          "coloraxis": {
           "colorbar": {
            "outlinewidth": 0,
            "ticks": ""
           }
          },
          "colorscale": {
           "diverging": [
            [
             0,
             "#8e0152"
            ],
            [
             0.1,
             "#c51b7d"
            ],
            [
             0.2,
             "#de77ae"
            ],
            [
             0.3,
             "#f1b6da"
            ],
            [
             0.4,
             "#fde0ef"
            ],
            [
             0.5,
             "#f7f7f7"
            ],
            [
             0.6,
             "#e6f5d0"
            ],
            [
             0.7,
             "#b8e186"
            ],
            [
             0.8,
             "#7fbc41"
            ],
            [
             0.9,
             "#4d9221"
            ],
            [
             1,
             "#276419"
            ]
           ],
           "sequential": [
            [
             0,
             "#0d0887"
            ],
            [
             0.1111111111111111,
             "#46039f"
            ],
            [
             0.2222222222222222,
             "#7201a8"
            ],
            [
             0.3333333333333333,
             "#9c179e"
            ],
            [
             0.4444444444444444,
             "#bd3786"
            ],
            [
             0.5555555555555556,
             "#d8576b"
            ],
            [
             0.6666666666666666,
             "#ed7953"
            ],
            [
             0.7777777777777778,
             "#fb9f3a"
            ],
            [
             0.8888888888888888,
             "#fdca26"
            ],
            [
             1,
             "#f0f921"
            ]
           ],
           "sequentialminus": [
            [
             0,
             "#0d0887"
            ],
            [
             0.1111111111111111,
             "#46039f"
            ],
            [
             0.2222222222222222,
             "#7201a8"
            ],
            [
             0.3333333333333333,
             "#9c179e"
            ],
            [
             0.4444444444444444,
             "#bd3786"
            ],
            [
             0.5555555555555556,
             "#d8576b"
            ],
            [
             0.6666666666666666,
             "#ed7953"
            ],
            [
             0.7777777777777778,
             "#fb9f3a"
            ],
            [
             0.8888888888888888,
             "#fdca26"
            ],
            [
             1,
             "#f0f921"
            ]
           ]
          },
          "colorway": [
           "#636efa",
           "#EF553B",
           "#00cc96",
           "#ab63fa",
           "#FFA15A",
           "#19d3f3",
           "#FF6692",
           "#B6E880",
           "#FF97FF",
           "#FECB52"
          ],
          "font": {
           "color": "#2a3f5f"
          },
          "geo": {
           "bgcolor": "white",
           "lakecolor": "white",
           "landcolor": "#E5ECF6",
           "showlakes": true,
           "showland": true,
           "subunitcolor": "white"
          },
          "hoverlabel": {
           "align": "left"
          },
          "hovermode": "closest",
          "mapbox": {
           "style": "light"
          },
          "paper_bgcolor": "white",
          "plot_bgcolor": "#E5ECF6",
          "polar": {
           "angularaxis": {
            "gridcolor": "white",
            "linecolor": "white",
            "ticks": ""
           },
           "bgcolor": "#E5ECF6",
           "radialaxis": {
            "gridcolor": "white",
            "linecolor": "white",
            "ticks": ""
           }
          },
          "scene": {
           "xaxis": {
            "backgroundcolor": "#E5ECF6",
            "gridcolor": "white",
            "gridwidth": 2,
            "linecolor": "white",
            "showbackground": true,
            "ticks": "",
            "zerolinecolor": "white"
           },
           "yaxis": {
            "backgroundcolor": "#E5ECF6",
            "gridcolor": "white",
            "gridwidth": 2,
            "linecolor": "white",
            "showbackground": true,
            "ticks": "",
            "zerolinecolor": "white"
           },
           "zaxis": {
            "backgroundcolor": "#E5ECF6",
            "gridcolor": "white",
            "gridwidth": 2,
            "linecolor": "white",
            "showbackground": true,
            "ticks": "",
            "zerolinecolor": "white"
           }
          },
          "shapedefaults": {
           "line": {
            "color": "#2a3f5f"
           }
          },
          "ternary": {
           "aaxis": {
            "gridcolor": "white",
            "linecolor": "white",
            "ticks": ""
           },
           "baxis": {
            "gridcolor": "white",
            "linecolor": "white",
            "ticks": ""
           },
           "bgcolor": "#E5ECF6",
           "caxis": {
            "gridcolor": "white",
            "linecolor": "white",
            "ticks": ""
           }
          },
          "title": {
           "x": 0.05
          },
          "xaxis": {
           "automargin": true,
           "gridcolor": "white",
           "linecolor": "white",
           "ticks": "",
           "title": {
            "standoff": 15
           },
           "zerolinecolor": "white",
           "zerolinewidth": 2
          },
          "yaxis": {
           "automargin": true,
           "gridcolor": "white",
           "linecolor": "white",
           "ticks": "",
           "title": {
            "standoff": 15
           },
           "zerolinecolor": "white",
           "zerolinewidth": 2
          }
         }
        },
        "title": {
         "text": "Total Screen Time"
        },
        "xaxis": {
         "tickangle": -45
        }
       }
      }
     },
     "metadata": {},
     "output_type": "display_data"
    }
   ],
   "source": [
    "fig = go.Figure()\n",
    "fig.add_trace(go.Bar(\n",
    "    x=files,\n",
    "    y=screen_time_df['greedy'],\n",
    "    name='Greedy Algorithm',\n",
    "    marker_color='indianred'\n",
    "))\n",
    "fig.add_trace(go.Bar(\n",
    "    x=files,\n",
    "    y=screen_time_df['random'],\n",
    "    name='Stochastic Algorithm',\n",
    "    marker_color='lightsalmon'\n",
    "))\n",
    "\n",
    "fig.update_layout(barmode='group', xaxis_tickangle=-45, title=\"Total Screen Time\")\n",
    "fig.show()"
   ]
  },
  {
   "cell_type": "code",
   "execution_count": 26,
   "metadata": {},
   "outputs": [
    {
     "data": {
      "application/vnd.plotly.v1+json": {
       "config": {
        "plotlyServerURL": "https://plot.ly"
       },
       "data": [
        {
         "marker": {
          "color": "indianred"
         },
         "name": "Greedy Algorithm",
         "type": "bar",
         "x": [
          "output_200000_50.txt",
          "output_70000_5.txt",
          "output_1000_70.txt",
          "output_70000_1.txt",
          "output_60000_6.txt",
          "output_55000_5.txt",
          "output_20000_50.txt",
          "output_10000_60.txt",
          "output_60000_5.txt",
          "output_1000_100.txt",
          "output_55000_2.txt",
          "output_10000_70.txt",
          "output_1000_10.txt",
          "output_10000_100.txt",
          "output_1000_20.txt",
          "output_10000_40.txt",
          "output_10000_50.txt",
          "output_100000_70.txt",
          "output_10_2.txt",
          "output_55000_50.txt",
          "output_50_3.txt",
          "output_100_10.txt",
          "output_100000_100.txt",
          "output_10000_25.txt",
          "output_70000_12.txt"
         ],
         "y": [
          683557,
          233576,
          4653,
          235655,
          200093,
          183230,
          74551,
          36246,
          198662,
          5493,
          194407,
          35801,
          4120,
          35561,
          4500,
          39048,
          41754,
          340128,
          306,
          191278,
          594,
          904,
          346756,
          37572,
          235272
         ]
        },
        {
         "marker": {
          "color": "lightsalmon"
         },
         "name": "Stochastic Algorithm",
         "type": "bar",
         "x": [
          "output_200000_50.txt",
          "output_70000_5.txt",
          "output_1000_70.txt",
          "output_70000_1.txt",
          "output_60000_6.txt",
          "output_55000_5.txt",
          "output_20000_50.txt",
          "output_10000_60.txt",
          "output_60000_5.txt",
          "output_1000_100.txt",
          "output_55000_2.txt",
          "output_10000_70.txt",
          "output_1000_10.txt",
          "output_10000_100.txt",
          "output_1000_20.txt",
          "output_10000_40.txt",
          "output_10000_50.txt",
          "output_100000_70.txt",
          "output_10_2.txt",
          "output_55000_50.txt",
          "output_50_3.txt",
          "output_100_10.txt",
          "output_100000_100.txt",
          "output_10000_25.txt",
          "output_70000_12.txt"
         ],
         "y": [
          3250057,
          513586,
          4039,
          521738,
          408934,
          352600,
          93255,
          40186,
          402756,
          3902,
          349922,
          40605,
          3691,
          41060,
          3854,
          52356,
          43054,
          949793,
          115,
          357563,
          252,
          469,
          960847,
          39396,
          517947
         ]
        }
       ],
       "layout": {
        "barmode": "group",
        "template": {
         "data": {
          "bar": [
           {
            "error_x": {
             "color": "#2a3f5f"
            },
            "error_y": {
             "color": "#2a3f5f"
            },
            "marker": {
             "line": {
              "color": "#E5ECF6",
              "width": 0.5
             },
             "pattern": {
              "fillmode": "overlay",
              "size": 10,
              "solidity": 0.2
             }
            },
            "type": "bar"
           }
          ],
          "barpolar": [
           {
            "marker": {
             "line": {
              "color": "#E5ECF6",
              "width": 0.5
             },
             "pattern": {
              "fillmode": "overlay",
              "size": 10,
              "solidity": 0.2
             }
            },
            "type": "barpolar"
           }
          ],
          "carpet": [
           {
            "aaxis": {
             "endlinecolor": "#2a3f5f",
             "gridcolor": "white",
             "linecolor": "white",
             "minorgridcolor": "white",
             "startlinecolor": "#2a3f5f"
            },
            "baxis": {
             "endlinecolor": "#2a3f5f",
             "gridcolor": "white",
             "linecolor": "white",
             "minorgridcolor": "white",
             "startlinecolor": "#2a3f5f"
            },
            "type": "carpet"
           }
          ],
          "choropleth": [
           {
            "colorbar": {
             "outlinewidth": 0,
             "ticks": ""
            },
            "type": "choropleth"
           }
          ],
          "contour": [
           {
            "colorbar": {
             "outlinewidth": 0,
             "ticks": ""
            },
            "colorscale": [
             [
              0,
              "#0d0887"
             ],
             [
              0.1111111111111111,
              "#46039f"
             ],
             [
              0.2222222222222222,
              "#7201a8"
             ],
             [
              0.3333333333333333,
              "#9c179e"
             ],
             [
              0.4444444444444444,
              "#bd3786"
             ],
             [
              0.5555555555555556,
              "#d8576b"
             ],
             [
              0.6666666666666666,
              "#ed7953"
             ],
             [
              0.7777777777777778,
              "#fb9f3a"
             ],
             [
              0.8888888888888888,
              "#fdca26"
             ],
             [
              1,
              "#f0f921"
             ]
            ],
            "type": "contour"
           }
          ],
          "contourcarpet": [
           {
            "colorbar": {
             "outlinewidth": 0,
             "ticks": ""
            },
            "type": "contourcarpet"
           }
          ],
          "heatmap": [
           {
            "colorbar": {
             "outlinewidth": 0,
             "ticks": ""
            },
            "colorscale": [
             [
              0,
              "#0d0887"
             ],
             [
              0.1111111111111111,
              "#46039f"
             ],
             [
              0.2222222222222222,
              "#7201a8"
             ],
             [
              0.3333333333333333,
              "#9c179e"
             ],
             [
              0.4444444444444444,
              "#bd3786"
             ],
             [
              0.5555555555555556,
              "#d8576b"
             ],
             [
              0.6666666666666666,
              "#ed7953"
             ],
             [
              0.7777777777777778,
              "#fb9f3a"
             ],
             [
              0.8888888888888888,
              "#fdca26"
             ],
             [
              1,
              "#f0f921"
             ]
            ],
            "type": "heatmap"
           }
          ],
          "heatmapgl": [
           {
            "colorbar": {
             "outlinewidth": 0,
             "ticks": ""
            },
            "colorscale": [
             [
              0,
              "#0d0887"
             ],
             [
              0.1111111111111111,
              "#46039f"
             ],
             [
              0.2222222222222222,
              "#7201a8"
             ],
             [
              0.3333333333333333,
              "#9c179e"
             ],
             [
              0.4444444444444444,
              "#bd3786"
             ],
             [
              0.5555555555555556,
              "#d8576b"
             ],
             [
              0.6666666666666666,
              "#ed7953"
             ],
             [
              0.7777777777777778,
              "#fb9f3a"
             ],
             [
              0.8888888888888888,
              "#fdca26"
             ],
             [
              1,
              "#f0f921"
             ]
            ],
            "type": "heatmapgl"
           }
          ],
          "histogram": [
           {
            "marker": {
             "pattern": {
              "fillmode": "overlay",
              "size": 10,
              "solidity": 0.2
             }
            },
            "type": "histogram"
           }
          ],
          "histogram2d": [
           {
            "colorbar": {
             "outlinewidth": 0,
             "ticks": ""
            },
            "colorscale": [
             [
              0,
              "#0d0887"
             ],
             [
              0.1111111111111111,
              "#46039f"
             ],
             [
              0.2222222222222222,
              "#7201a8"
             ],
             [
              0.3333333333333333,
              "#9c179e"
             ],
             [
              0.4444444444444444,
              "#bd3786"
             ],
             [
              0.5555555555555556,
              "#d8576b"
             ],
             [
              0.6666666666666666,
              "#ed7953"
             ],
             [
              0.7777777777777778,
              "#fb9f3a"
             ],
             [
              0.8888888888888888,
              "#fdca26"
             ],
             [
              1,
              "#f0f921"
             ]
            ],
            "type": "histogram2d"
           }
          ],
          "histogram2dcontour": [
           {
            "colorbar": {
             "outlinewidth": 0,
             "ticks": ""
            },
            "colorscale": [
             [
              0,
              "#0d0887"
             ],
             [
              0.1111111111111111,
              "#46039f"
             ],
             [
              0.2222222222222222,
              "#7201a8"
             ],
             [
              0.3333333333333333,
              "#9c179e"
             ],
             [
              0.4444444444444444,
              "#bd3786"
             ],
             [
              0.5555555555555556,
              "#d8576b"
             ],
             [
              0.6666666666666666,
              "#ed7953"
             ],
             [
              0.7777777777777778,
              "#fb9f3a"
             ],
             [
              0.8888888888888888,
              "#fdca26"
             ],
             [
              1,
              "#f0f921"
             ]
            ],
            "type": "histogram2dcontour"
           }
          ],
          "mesh3d": [
           {
            "colorbar": {
             "outlinewidth": 0,
             "ticks": ""
            },
            "type": "mesh3d"
           }
          ],
          "parcoords": [
           {
            "line": {
             "colorbar": {
              "outlinewidth": 0,
              "ticks": ""
             }
            },
            "type": "parcoords"
           }
          ],
          "pie": [
           {
            "automargin": true,
            "type": "pie"
           }
          ],
          "scatter": [
           {
            "fillpattern": {
             "fillmode": "overlay",
             "size": 10,
             "solidity": 0.2
            },
            "type": "scatter"
           }
          ],
          "scatter3d": [
           {
            "line": {
             "colorbar": {
              "outlinewidth": 0,
              "ticks": ""
             }
            },
            "marker": {
             "colorbar": {
              "outlinewidth": 0,
              "ticks": ""
             }
            },
            "type": "scatter3d"
           }
          ],
          "scattercarpet": [
           {
            "marker": {
             "colorbar": {
              "outlinewidth": 0,
              "ticks": ""
             }
            },
            "type": "scattercarpet"
           }
          ],
          "scattergeo": [
           {
            "marker": {
             "colorbar": {
              "outlinewidth": 0,
              "ticks": ""
             }
            },
            "type": "scattergeo"
           }
          ],
          "scattergl": [
           {
            "marker": {
             "colorbar": {
              "outlinewidth": 0,
              "ticks": ""
             }
            },
            "type": "scattergl"
           }
          ],
          "scattermapbox": [
           {
            "marker": {
             "colorbar": {
              "outlinewidth": 0,
              "ticks": ""
             }
            },
            "type": "scattermapbox"
           }
          ],
          "scatterpolar": [
           {
            "marker": {
             "colorbar": {
              "outlinewidth": 0,
              "ticks": ""
             }
            },
            "type": "scatterpolar"
           }
          ],
          "scatterpolargl": [
           {
            "marker": {
             "colorbar": {
              "outlinewidth": 0,
              "ticks": ""
             }
            },
            "type": "scatterpolargl"
           }
          ],
          "scatterternary": [
           {
            "marker": {
             "colorbar": {
              "outlinewidth": 0,
              "ticks": ""
             }
            },
            "type": "scatterternary"
           }
          ],
          "surface": [
           {
            "colorbar": {
             "outlinewidth": 0,
             "ticks": ""
            },
            "colorscale": [
             [
              0,
              "#0d0887"
             ],
             [
              0.1111111111111111,
              "#46039f"
             ],
             [
              0.2222222222222222,
              "#7201a8"
             ],
             [
              0.3333333333333333,
              "#9c179e"
             ],
             [
              0.4444444444444444,
              "#bd3786"
             ],
             [
              0.5555555555555556,
              "#d8576b"
             ],
             [
              0.6666666666666666,
              "#ed7953"
             ],
             [
              0.7777777777777778,
              "#fb9f3a"
             ],
             [
              0.8888888888888888,
              "#fdca26"
             ],
             [
              1,
              "#f0f921"
             ]
            ],
            "type": "surface"
           }
          ],
          "table": [
           {
            "cells": {
             "fill": {
              "color": "#EBF0F8"
             },
             "line": {
              "color": "white"
             }
            },
            "header": {
             "fill": {
              "color": "#C8D4E3"
             },
             "line": {
              "color": "white"
             }
            },
            "type": "table"
           }
          ]
         },
         "layout": {
          "annotationdefaults": {
           "arrowcolor": "#2a3f5f",
           "arrowhead": 0,
           "arrowwidth": 1
          },
          "autotypenumbers": "strict",
          "coloraxis": {
           "colorbar": {
            "outlinewidth": 0,
            "ticks": ""
           }
          },
          "colorscale": {
           "diverging": [
            [
             0,
             "#8e0152"
            ],
            [
             0.1,
             "#c51b7d"
            ],
            [
             0.2,
             "#de77ae"
            ],
            [
             0.3,
             "#f1b6da"
            ],
            [
             0.4,
             "#fde0ef"
            ],
            [
             0.5,
             "#f7f7f7"
            ],
            [
             0.6,
             "#e6f5d0"
            ],
            [
             0.7,
             "#b8e186"
            ],
            [
             0.8,
             "#7fbc41"
            ],
            [
             0.9,
             "#4d9221"
            ],
            [
             1,
             "#276419"
            ]
           ],
           "sequential": [
            [
             0,
             "#0d0887"
            ],
            [
             0.1111111111111111,
             "#46039f"
            ],
            [
             0.2222222222222222,
             "#7201a8"
            ],
            [
             0.3333333333333333,
             "#9c179e"
            ],
            [
             0.4444444444444444,
             "#bd3786"
            ],
            [
             0.5555555555555556,
             "#d8576b"
            ],
            [
             0.6666666666666666,
             "#ed7953"
            ],
            [
             0.7777777777777778,
             "#fb9f3a"
            ],
            [
             0.8888888888888888,
             "#fdca26"
            ],
            [
             1,
             "#f0f921"
            ]
           ],
           "sequentialminus": [
            [
             0,
             "#0d0887"
            ],
            [
             0.1111111111111111,
             "#46039f"
            ],
            [
             0.2222222222222222,
             "#7201a8"
            ],
            [
             0.3333333333333333,
             "#9c179e"
            ],
            [
             0.4444444444444444,
             "#bd3786"
            ],
            [
             0.5555555555555556,
             "#d8576b"
            ],
            [
             0.6666666666666666,
             "#ed7953"
            ],
            [
             0.7777777777777778,
             "#fb9f3a"
            ],
            [
             0.8888888888888888,
             "#fdca26"
            ],
            [
             1,
             "#f0f921"
            ]
           ]
          },
          "colorway": [
           "#636efa",
           "#EF553B",
           "#00cc96",
           "#ab63fa",
           "#FFA15A",
           "#19d3f3",
           "#FF6692",
           "#B6E880",
           "#FF97FF",
           "#FECB52"
          ],
          "font": {
           "color": "#2a3f5f"
          },
          "geo": {
           "bgcolor": "white",
           "lakecolor": "white",
           "landcolor": "#E5ECF6",
           "showlakes": true,
           "showland": true,
           "subunitcolor": "white"
          },
          "hoverlabel": {
           "align": "left"
          },
          "hovermode": "closest",
          "mapbox": {
           "style": "light"
          },
          "paper_bgcolor": "white",
          "plot_bgcolor": "#E5ECF6",
          "polar": {
           "angularaxis": {
            "gridcolor": "white",
            "linecolor": "white",
            "ticks": ""
           },
           "bgcolor": "#E5ECF6",
           "radialaxis": {
            "gridcolor": "white",
            "linecolor": "white",
            "ticks": ""
           }
          },
          "scene": {
           "xaxis": {
            "backgroundcolor": "#E5ECF6",
            "gridcolor": "white",
            "gridwidth": 2,
            "linecolor": "white",
            "showbackground": true,
            "ticks": "",
            "zerolinecolor": "white"
           },
           "yaxis": {
            "backgroundcolor": "#E5ECF6",
            "gridcolor": "white",
            "gridwidth": 2,
            "linecolor": "white",
            "showbackground": true,
            "ticks": "",
            "zerolinecolor": "white"
           },
           "zaxis": {
            "backgroundcolor": "#E5ECF6",
            "gridcolor": "white",
            "gridwidth": 2,
            "linecolor": "white",
            "showbackground": true,
            "ticks": "",
            "zerolinecolor": "white"
           }
          },
          "shapedefaults": {
           "line": {
            "color": "#2a3f5f"
           }
          },
          "ternary": {
           "aaxis": {
            "gridcolor": "white",
            "linecolor": "white",
            "ticks": ""
           },
           "baxis": {
            "gridcolor": "white",
            "linecolor": "white",
            "ticks": ""
           },
           "bgcolor": "#E5ECF6",
           "caxis": {
            "gridcolor": "white",
            "linecolor": "white",
            "ticks": ""
           }
          },
          "title": {
           "x": 0.05
          },
          "xaxis": {
           "automargin": true,
           "gridcolor": "white",
           "linecolor": "white",
           "ticks": "",
           "title": {
            "standoff": 15
           },
           "zerolinecolor": "white",
           "zerolinewidth": 2
          },
          "yaxis": {
           "automargin": true,
           "gridcolor": "white",
           "linecolor": "white",
           "ticks": "",
           "title": {
            "standoff": 15
           },
           "zerolinecolor": "white",
           "zerolinewidth": 2
          }
         }
        },
        "title": {
         "text": "Execution Duration (microseconds)"
        },
        "xaxis": {
         "tickangle": -45
        }
       }
      }
     },
     "metadata": {},
     "output_type": "display_data"
    }
   ],
   "source": [
    "fig = go.Figure()\n",
    "fig.add_trace(go.Bar(\n",
    "    x=files,\n",
    "    y=execution_duration_df['greedy'],\n",
    "    name='Greedy Algorithm',\n",
    "    marker_color='indianred'\n",
    "))\n",
    "fig.add_trace(go.Bar(\n",
    "    x=files,\n",
    "    y=execution_duration_df['random'],\n",
    "    name='Stochastic Algorithm',\n",
    "    marker_color='lightsalmon'\n",
    "))\n",
    "\n",
    "fig.update_layout(barmode='group', xaxis_tickangle=-45, title=\"Execution Duration (microseconds)\")\n",
    "fig.show()"
   ]
  },
  {
   "attachments": {},
   "cell_type": "markdown",
   "metadata": {},
   "source": [
    "# Conclusão dos resultados\n",
    "Analisando os resultados, podemos concluir que a performance da heurística gulosa é melhor do que a performance da heurística aleatória para todas as métricas comparadas.\n",
    "\n",
    "- Número de filmes assistidos:\n",
    "\n",
    "Para todos os inputs, a heurística gulosa assisitiu um número maior ou igual ao número de filmes assistidos pela heurística com aleatoriedade.\n",
    "\n",
    "- Tempo de tela:\n",
    "\n",
    "Para todos os inputs, a heurística gulosa passou mais tempo assistindo filmes ou a mesma quantidade de tempo que a heurística com aleatoriedade\n",
    "\n",
    "- Tempo de execução\n",
    "\n",
    "Para todos os inputs, o tempo de execução da heurística gulosa foi menor do que o tempo de execução da heurística aleatória."
   ]
  }
 ],
 "metadata": {
  "kernelspec": {
   "display_name": "data-science",
   "language": "python",
   "name": "python3"
  },
  "language_info": {
   "codemirror_mode": {
    "name": "ipython",
    "version": 3
   },
   "file_extension": ".py",
   "mimetype": "text/x-python",
   "name": "python",
   "nbconvert_exporter": "python",
   "pygments_lexer": "ipython3",
   "version": "3.8.9"
  },
  "orig_nbformat": 4
 },
 "nbformat": 4,
 "nbformat_minor": 2
}
